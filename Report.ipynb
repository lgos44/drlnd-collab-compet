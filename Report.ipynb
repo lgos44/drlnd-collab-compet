{
 "cells": [
  {
   "cell_type": "markdown",
   "metadata": {},
   "source": [
    "# Collaboration and Competition\n",
    "\n",
    "The objective of this project is to train agents to play tennis in the Unity ML-Agents Tennis environment.\n",
    "\n",
    "## 1. Starting the Environment\n",
    "We begin by importing the necessary packages.  If the code cell below returns an error, please revisit the project instructions to double-check that you have installed [Unity ML-Agents](https://github.com/Unity-Technologies/ml-agents/blob/master/docs/Installation.md) and [NumPy](http://www.numpy.org/)."
   ]
  },
  {
   "cell_type": "code",
   "execution_count": 1,
   "metadata": {},
   "outputs": [],
   "source": [
    "from unityagents import UnityEnvironment\n",
    "from collections import deque\n",
    "import numpy as np\n",
    "from config import Config\n",
    "config = Config()"
   ]
  },
  {
   "cell_type": "markdown",
   "metadata": {},
   "source": [
    "**_Before running the code cell below_**, change the `file_name` parameter to match the location of the Unity environment that you downloaded.\n",
    "\n",
    "- **Mac**: `\"path/to/Tennis.app\"`\n",
    "- **Windows** (x86): `\"path/to/Tennis_Windows_x86/Tennis.exe\"`\n",
    "- **Windows** (x86_64): `\"path/to/Tennis_Windows_x86_64/Tennis.exe\"`\n",
    "- **Linux** (x86): `\"path/to/Tennis_Linux/Tennis.x86\"`\n",
    "- **Linux** (x86_64): `\"path/to/Tennis_Linux/Tennis.x86_64\"`\n",
    "- **Linux** (x86, headless): `\"path/to/Tennis_Linux_NoVis/Tennis.x86\"`\n",
    "- **Linux** (x86_64, headless): `\"path/to/Tennis_Linux_NoVis/Tennis.x86_64\"`\n",
    "\n",
    "For instance, if you are using a Mac, then you downloaded `Tennis.app`.  If this file is in the same folder as the notebook, then the line below should appear as follows:\n",
    "```\n",
    "env = UnityEnvironment(file_name=\"Tennis.app\")\n",
    "```"
   ]
  },
  {
   "cell_type": "code",
   "execution_count": 2,
   "metadata": {},
   "outputs": [
    {
     "name": "stderr",
     "output_type": "stream",
     "text": [
      "INFO:unityagents:\n",
      "'Academy' started successfully!\n",
      "Unity Academy name: Academy\n",
      "        Number of Brains: 1\n",
      "        Number of External Brains : 1\n",
      "        Lesson number : 0\n",
      "        Reset Parameters :\n",
      "\t\t\n",
      "Unity brain name: TennisBrain\n",
      "        Number of Visual Observations (per agent): 0\n",
      "        Vector Observation space type: continuous\n",
      "        Vector Observation space size (per agent): 8\n",
      "        Number of stacked Vector Observation: 3\n",
      "        Vector Action space type: continuous\n",
      "        Vector Action space size (per agent): 2\n",
      "        Vector Action descriptions: , \n"
     ]
    }
   ],
   "source": [
    "env = UnityEnvironment(file_name=config.environment_path)"
   ]
  },
  {
   "cell_type": "markdown",
   "metadata": {},
   "source": [
    "Environments contain **_brains_** which are responsible for deciding the actions of their associated agents. Here we check for the first brain available, and set it as the default brain we will be controlling from Python."
   ]
  },
  {
   "cell_type": "code",
   "execution_count": 3,
   "metadata": {},
   "outputs": [],
   "source": [
    "# get the default brain\n",
    "brain_name = env.brain_names[0]\n",
    "brain = env.brains[brain_name]"
   ]
  },
  {
   "cell_type": "markdown",
   "metadata": {},
   "source": [
    "## 2. Examining the State and Action Spaces\n",
    "\n",
    "In this environment, two agents control rackets to bounce a ball over a net. If an agent hits the ball over the net, it receives a reward of +0.1.  If an agent lets a ball hit the ground or hits the ball out of bounds, it receives a reward of -0.01.  Thus, the goal of each agent is to keep the ball in play.\n",
    "\n",
    "The observation space consists of 8 variables corresponding to the position and velocity of the ball and racket. Two continuous actions are available, corresponding to movement toward (or away from) the net, and jumping. \n",
    "\n",
    "Run the code cell below to print some information about the environment."
   ]
  },
  {
   "cell_type": "code",
   "execution_count": 4,
   "metadata": {},
   "outputs": [
    {
     "name": "stdout",
     "output_type": "stream",
     "text": [
      "Number of agents: 2\n",
      "Size of each action: 2\n",
      "There are 2 agents. Each observes a state with length: 24\n",
      "The state for the first agent looks like: [ 0.          0.          0.          0.          0.          0.\n",
      "  0.          0.          0.          0.          0.          0.\n",
      "  0.          0.          0.          0.         -6.65278625 -1.5\n",
      " -0.          0.          6.83172083  6.         -0.          0.        ]\n"
     ]
    }
   ],
   "source": [
    "# reset the environment\n",
    "env_info = env.reset(train_mode=True)[brain_name]\n",
    "\n",
    "# number of agents \n",
    "num_agents = len(env_info.agents)\n",
    "print('Number of agents:', num_agents)\n",
    "\n",
    "# size of each action\n",
    "action_size = brain.vector_action_space_size\n",
    "print('Size of each action:', action_size)\n",
    "\n",
    "# examine the state space \n",
    "states = env_info.vector_observations\n",
    "state_size = states.shape[1]\n",
    "print('There are {} agents. Each observes a state with length: {}'.format(states.shape[0], state_size))\n",
    "print('The state for the first agent looks like:', states[0])"
   ]
  },
  {
   "cell_type": "markdown",
   "metadata": {},
   "source": [
    "#### Updating configuration \n",
    "Based on values found we can update our configuration."
   ]
  },
  {
   "cell_type": "code",
   "execution_count": 5,
   "metadata": {},
   "outputs": [],
   "source": [
    "config.num_agents = num_agents\n",
    "config.action_size = action_size\n",
    "config.state_size = state_size"
   ]
  },
  {
   "cell_type": "markdown",
   "metadata": {},
   "source": [
    "## 4. Training the agents\n",
    "\n",
    "### 4.1 . Algorithm\n",
    "To solve this problem, the Deep Deterministic Policy Gradient will be used. DDPG adapts the ideas of Deep Q-Learning to the continuous action domain. The actor network approximates the optimal policy deterministically (best believed action). The critic evaluates the optimal action value function using the best believed action given by the actor network. DDPG also uses a repĺay buffer where experience tuples are stored.\n",
    "\n",
    "From [Continuous control with deep reinforcement learning](https://arxiv.org/abs/1509.02971v5) we can find a description of the algorithm:\n",
    "\n",
    "\n",
    "<img src=\"./doc/ddpg.png\" alt=\"Drawing\" width=\"700\"/>\n",
    "\n",
    "### 4.2 . Network and Parameters \n",
    "Here both the critic newtork and the actor network have two hidden layers with 512 and 256 nodes respectively.\n",
    "\n",
    "Actor network maps states to actions: \n",
    "\n",
    "<img src=\"./doc/actor.png\" alt=\"Drawing\" width=\"700\"/>\n",
    "\n",
    "The critic network maps (state, action) pairs to Q values: \n",
    "\n",
    "<img src=\"./doc/critic.png\" alt=\"Drawing\" width=\"700\"/>\n",
    "\n",
    "\n",
    "The parameters used were:\n",
    "    \n",
    "| Parameter Description|  Variable  | Value |\n",
    "|-----------|------------|------|\n",
    "|Size of the replay buffer D|BUFFER_SIZE|1e6|\n",
    "|Mini-batch size|BATCH_SIZE|512|\n",
    "|Discount factor|GAMMA|0.99|\n",
    "|$\\\\tau$ for soft update of target parameters|TAU|1e-3|\n",
    "|Actor learning rate|LR|3e-4|\n",
    "|Actor learning rate|LR|5e-4|\n",
    "|L2 weight decay|WEIGHT_DECAY|0.0|\n",
    "\n",
    "When training the environment, we need to set `train_mode=True`, so that the line for resetting the environment looks like the following:\n",
    "```python\n",
    "env_info = env.reset(train_mode=True)[brain_name]\n",
    "```"
   ]
  },
  {
   "cell_type": "code",
   "execution_count": 6,
   "metadata": {},
   "outputs": [],
   "source": [
    "from agent import Agent\n",
    "from replay import ReplayBuffer \n",
    "import torch\n",
    "\n",
    "agents = [Agent(config) for _ in range(config.num_agents)]\n",
    "memory = ReplayBuffer(config.action_size, config.buffer_size, config.batch_size, config.random_seed)"
   ]
  },
  {
   "cell_type": "code",
   "execution_count": 7,
   "metadata": {},
   "outputs": [],
   "source": [
    "def ddpg(n_episodes=3000, max_steps=2000, shared=True):\n",
    "    scores_global = []\n",
    "    moving_scores = deque(maxlen=100)\n",
    "    timestep = 0\n",
    "    \n",
    "    for i_episode in range(1, n_episodes+1):\n",
    "        \n",
    "        ## Reset all agents\n",
    "        for agent in agents:\n",
    "            agent.reset()\n",
    "            \n",
    "        env_info = env.reset(train_mode=True)[brain_name]\n",
    "        states = env_info.vector_observations           \n",
    "        scores = np.zeros(num_agents)\n",
    "\n",
    "        for i in range(max_steps):\n",
    "            # Each agent takes its action\n",
    "            actions = [agent.act(np.expand_dims(state, axis=0))\n",
    "               for agent, state in zip(agents, states)]\n",
    "            \n",
    "            # Retrieving information from interaction with environment\n",
    "            env_info = env.step(actions)[brain_name]\n",
    "            rewards = env_info.rewards\n",
    "            next_states = env_info.vector_observations\n",
    "            dones = env_info.local_done\n",
    "\n",
    "            # Adding experience tuples to the shared buffer\n",
    "            for state, action, reward, next_state, done in zip(states, actions, rewards, next_states, dones):\n",
    "                memory.add(state, action, reward, next_state, done)\n",
    "\n",
    "            # Learn every update_every time steps.\n",
    "            timestep = (timestep + 1) % config.update_every\n",
    "            if timestep == 0:\n",
    "              # If enough samples are available in memory, get random subset and learn\n",
    "              if len(memory) > config.batch_size:\n",
    "                for agent in agents:\n",
    "                    if shared:\n",
    "                        experiences = memory.sample()\n",
    "                    else:\n",
    "                        experiences = agent.memory.sample()\n",
    "                    agent.learn(experiences, config.gamma)\n",
    "\n",
    "            scores += rewards\n",
    "            states = next_states\n",
    "                \n",
    "        # max of the agents scores\n",
    "        current_score = np.max(scores)\n",
    "        moving_scores.append(current_score)\n",
    "        scores_global.append(current_score)\n",
    "        \n",
    "        print('\\rEpisode {} \\t Current score: {:.4f}  \\tAverage Score: {:.4f}' \\\n",
    "              .format(i_episode, current_score, np.mean(moving_scores)), end=\"\")\n",
    "        \n",
    "        # Print every 10 episodes\n",
    "        if i_episode % 10 == 0:\n",
    "            print('\\rEpisode {}\\tAverage Score: {:.2f}'.format(i_episode, np.mean(moving_scores)))\n",
    "        \n",
    "        # Environment solved after average of +0.5 is reached and after 100 episodes\n",
    "        if np.mean(moving_scores) >= 0.5 and len(moving_scores) >= 100:\n",
    "            print('\\nEnvironment solved in {:d} episodes!\\tAverage Score: {:.2f}'.format(i_episode, np.mean(moving_scores)))\n",
    "            torch.save(agents[0].actor_local.state_dict(), './data/checkpoint_actor.pth')\n",
    "            torch.save(agents[0].critic_local.state_dict(), './data/checkpoint_critic.pth')\n",
    "            break \n",
    "            \n",
    "    return scores_global"
   ]
  },
  {
   "cell_type": "code",
   "execution_count": 8,
   "metadata": {},
   "outputs": [
    {
     "name": "stderr",
     "output_type": "stream",
     "text": [
      "/home/lgos/anaconda3/envs/drlnd/lib/python3.6/site-packages/torch/nn/functional.py:995: UserWarning: nn.functional.tanh is deprecated. Use torch.tanh instead.\n",
      "  warnings.warn(\"nn.functional.tanh is deprecated. Use torch.tanh instead.\")\n"
     ]
    },
    {
     "name": "stdout",
     "output_type": "stream",
     "text": [
      "Episode 10\tAverage Score: -0.55\n",
      "Episode 20\tAverage Score: -0.59\n",
      "Episode 30\tAverage Score: -0.11\n",
      "Episode 40\tAverage Score: 0.59\n",
      "Episode 50\tAverage Score: 1.10\n",
      "Episode 60\tAverage Score: 1.55\n",
      "Episode 70\tAverage Score: 1.82\n",
      "Episode 80\tAverage Score: 2.01\n",
      "Episode 90\tAverage Score: 2.09\n",
      "Episode 100\tAverage Score: 2.11\n",
      "\n",
      "Environment solved in 100 episodes!\tAverage Score: 2.11\n"
     ]
    }
   ],
   "source": [
    "scores = ddpg()"
   ]
  },
  {
   "cell_type": "code",
   "execution_count": 9,
   "metadata": {},
   "outputs": [
    {
     "data": {
      "image/png": "[encoded data removed]",
      "text/plain": [
       "<Figure size 432x288 with 1 Axes>"
      ]
     },
     "metadata": {
      "needs_background": "light"
     },
     "output_type": "display_data"
    }
   ],
   "source": [
    "import matplotlib.pyplot as plt\n",
    "%matplotlib inline\n",
    "# plot the scores\n",
    "fig = plt.figure()\n",
    "ax = fig.add_subplot(111)\n",
    "plt.plot(np.arange(len(scores)), scores)\n",
    "plt.ylabel('Score')\n",
    "plt.xlabel('Episode #')\n",
    "plt.show()"
   ]
  },
  {
   "cell_type": "markdown",
   "metadata": {},
   "source": [
    "When finished, we can close the environment."
   ]
  },
  {
   "cell_type": "code",
   "execution_count": 10,
   "metadata": {},
   "outputs": [],
   "source": [
    "env.close()"
   ]
  },
  {
   "cell_type": "markdown",
   "metadata": {},
   "source": [
    "## 5. Ideas for future work\n",
    "To improve the agents performance some possible options are:\n",
    "- Test algorithms like PPO, A3C or D4PG \n",
    "- Changing network architecture, hyperparameters or size.\n",
    "- Grid search to find optimal hyperparameters\n",
    "- Test individual replay buffer for each agent"
   ]
  }
 ],
 "metadata": {
  "kernelspec": {
   "display_name": "drlnd",
   "language": "python",
   "name": "drlnd"
  },
  "language_info": {
   "codemirror_mode": {
    "name": "ipython",
    "version": 3
   },
   "file_extension": ".py",
   "mimetype": "text/x-python",
   "name": "python",
   "nbconvert_exporter": "python",
   "pygments_lexer": "ipython3",
   "version": "3.6.6"
  }
 },
 "nbformat": 4,
 "nbformat_minor": 2
}
